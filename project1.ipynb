{
 "cells": [
  {
   "cell_type": "code",
   "execution_count": 30,
   "id": "eade1110-763b-4323-bbf0-87454d33ace2",
   "metadata": {
    "tags": []
   },
   "outputs": [
    {
     "name": "stdout",
     "output_type": "stream",
     "text": [
      "env: INSTANCE=my\n"
     ]
    }
   ],
   "source": [
    "%env INSTANCE=my"
   ]
  },
  {
   "cell_type": "markdown",
   "id": "a6765f2d-f079-464e-aafb-ad1bd845d87f",
   "metadata": {},
   "source": [
    "### Create the sakila database and database objects by running sakila-database.sql"
   ]
  },
  {
   "cell_type": "code",
   "execution_count": 31,
   "id": "c8576ccb-1dfb-4f0c-9b6c-98ad0f3e80eb",
   "metadata": {
    "tags": []
   },
   "outputs": [],
   "source": [
    "!mysql < ~/sakila/sakila-database.sql"
   ]
  },
  {
   "cell_type": "markdown",
   "id": "7055ab21-3a77-4e98-9f5e-9b7921b48c24",
   "metadata": {},
   "source": [
    "### Populate the tables by running sakila-data.sql"
   ]
  },
  {
   "cell_type": "code",
   "execution_count": 32,
   "id": "bc1d40a4-ce64-4f60-b7ab-0a93d0cf02fd",
   "metadata": {
    "tags": []
   },
   "outputs": [],
   "source": [
    "!mysql < ~/sakila/sakila-data.sql"
   ]
  },
  {
   "cell_type": "markdown",
   "id": "849e95df-7af7-466a-b3b0-207a5f4b44b6",
   "metadata": {},
   "source": [
    "### Write queries to get a row count for five of the tables in the database. Include the five SQL statements"
   ]
  },
  {
   "cell_type": "code",
   "execution_count": 33,
   "id": "a5f5323c-3a13-4f47-a626-37ce75f659d6",
   "metadata": {
    "tags": []
   },
   "outputs": [
    {
     "name": "stdout",
     "output_type": "stream",
     "text": [
      "+----------------------------+\n",
      "| Tables_in_sakila           |\n",
      "+----------------------------+\n",
      "| actor                      |\n",
      "| actor_info                 |\n",
      "| address                    |\n",
      "| category                   |\n",
      "| city                       |\n",
      "| country                    |\n",
      "| customer                   |\n",
      "| customer_list              |\n",
      "| film                       |\n",
      "| film_actor                 |\n",
      "| film_category              |\n",
      "| film_list                  |\n",
      "| film_text                  |\n",
      "| inventory                  |\n",
      "| language                   |\n",
      "| nicer_but_slower_film_list |\n",
      "| payment                    |\n",
      "| rental                     |\n",
      "| sales_by_film_category     |\n",
      "| sales_by_store             |\n",
      "| staff                      |\n",
      "| staff_list                 |\n",
      "| store                      |\n",
      "+----------------------------+\n"
     ]
    }
   ],
   "source": [
    "!mysql sakila -e \"show tables\""
   ]
  },
  {
   "cell_type": "markdown",
   "id": "3421a674-c2f8-4bdb-a18f-550aa0eb5c59",
   "metadata": {},
   "source": [
    "### Write queries to get a row count for five of the tables in the database. Include the five SQL statements"
   ]
  },
  {
   "cell_type": "code",
   "execution_count": 34,
   "id": "1653588a-a285-472b-b705-7cc209377d84",
   "metadata": {},
   "outputs": [
    {
     "name": "stdout",
     "output_type": "stream",
     "text": [
      "+----------+\n",
      "| count(*) |\n",
      "+----------+\n",
      "|      200 |\n",
      "+----------+\n"
     ]
    }
   ],
   "source": [
    "!mysql sakila -e \"select count(*) from actor\""
   ]
  },
  {
   "cell_type": "code",
   "execution_count": 35,
   "id": "633f76f6-fc88-4792-9dc0-29f8e8d8e748",
   "metadata": {
    "tags": []
   },
   "outputs": [
    {
     "name": "stdout",
     "output_type": "stream",
     "text": [
      "+----------+\n",
      "| count(*) |\n",
      "+----------+\n",
      "|      600 |\n",
      "+----------+\n"
     ]
    }
   ],
   "source": [
    "!mysql sakila -e \"select count(*) from city\""
   ]
  },
  {
   "cell_type": "code",
   "execution_count": 36,
   "id": "0a61f614-2312-46ef-a5c1-de68e9b8ad4d",
   "metadata": {
    "tags": []
   },
   "outputs": [
    {
     "name": "stdout",
     "output_type": "stream",
     "text": [
      "+----------+\n",
      "| count(*) |\n",
      "+----------+\n",
      "|        6 |\n",
      "+----------+\n"
     ]
    }
   ],
   "source": [
    "!mysql sakila -e \"select count(*) from language\""
   ]
  },
  {
   "cell_type": "code",
   "execution_count": 37,
   "id": "67bb0e54-1d5b-4568-9eb2-2b3d4094dd5f",
   "metadata": {
    "tags": []
   },
   "outputs": [
    {
     "name": "stdout",
     "output_type": "stream",
     "text": [
      "+----------+\n",
      "| count(*) |\n",
      "+----------+\n",
      "|     1000 |\n",
      "+----------+\n"
     ]
    }
   ],
   "source": [
    "!mysql sakila -e \"select count(*) from film\""
   ]
  },
  {
   "cell_type": "code",
   "execution_count": 38,
   "id": "c3ee9dd6-e1c5-4c88-85a3-a827c5ac76da",
   "metadata": {
    "tags": []
   },
   "outputs": [
    {
     "name": "stdout",
     "output_type": "stream",
     "text": [
      "+----------+\n",
      "| count(*) |\n",
      "+----------+\n",
      "|      599 |\n",
      "+----------+\n"
     ]
    }
   ],
   "source": [
    "!mysql sakila -e \"select count(*) from customer\""
   ]
  },
  {
   "cell_type": "markdown",
   "id": "ea2c8ee1-fe3d-4ea0-88aa-c28620527113",
   "metadata": {},
   "source": [
    "### Write five queries to sample a few rows (showing only a few of the columns) from five of the tables, using the LIMIT clause"
   ]
  },
  {
   "cell_type": "code",
   "execution_count": 39,
   "id": "72778bd5-3297-48c4-bb8a-92b0c1d2ff17",
   "metadata": {
    "tags": []
   },
   "outputs": [
    {
     "name": "stdout",
     "output_type": "stream",
     "text": [
      "+----------+------------+--------------+---------------------+\n",
      "| actor_id | first_name | last_name    | last_update         |\n",
      "+----------+------------+--------------+---------------------+\n",
      "|        1 | PENELOPE   | GUINESS      | 2006-02-15 04:34:33 |\n",
      "|        2 | NICK       | WAHLBERG     | 2006-02-15 04:34:33 |\n",
      "|        3 | ED         | CHASE        | 2006-02-15 04:34:33 |\n",
      "|        4 | JENNIFER   | DAVIS        | 2006-02-15 04:34:33 |\n",
      "|        5 | JOHNNY     | LOLLOBRIGIDA | 2006-02-15 04:34:33 |\n",
      "+----------+------------+--------------+---------------------+\n"
     ]
    }
   ],
   "source": [
    "!mysql sakila -e \"select * from actor limit 5\""
   ]
  },
  {
   "cell_type": "code",
   "execution_count": 40,
   "id": "e638f0bc-7553-445e-922a-7e30324c596d",
   "metadata": {
    "tags": []
   },
   "outputs": [
    {
     "name": "stdout",
     "output_type": "stream",
     "text": [
      "+--------------------+\n",
      "| city               |\n",
      "+--------------------+\n",
      "| A Corua (La Corua) |\n",
      "| Abha               |\n",
      "| Abu Dhabi          |\n",
      "| Acua               |\n",
      "| Adana              |\n",
      "+--------------------+\n"
     ]
    }
   ],
   "source": [
    "!mysql sakila -e \"select city from city limit 5\""
   ]
  },
  {
   "cell_type": "code",
   "execution_count": 41,
   "id": "5779f9f2-aa95-482b-8fe9-db883fadb81e",
   "metadata": {
    "tags": []
   },
   "outputs": [
    {
     "name": "stdout",
     "output_type": "stream",
     "text": [
      "+----------+---------------------+\n",
      "| name     | last_update         |\n",
      "+----------+---------------------+\n",
      "| English  | 2006-02-15 05:02:19 |\n",
      "| Italian  | 2006-02-15 05:02:19 |\n",
      "| Japanese | 2006-02-15 05:02:19 |\n",
      "| Mandarin | 2006-02-15 05:02:19 |\n",
      "| French   | 2006-02-15 05:02:19 |\n",
      "| German   | 2006-02-15 05:02:19 |\n",
      "+----------+---------------------+\n"
     ]
    }
   ],
   "source": [
    "!mysql sakila -e \"select name, last_update from language limit 6\""
   ]
  },
  {
   "cell_type": "code",
   "execution_count": 42,
   "id": "fdf12888-5f9e-43f3-a3f0-fdc42dc0cdcb",
   "metadata": {
    "tags": []
   },
   "outputs": [
    {
     "name": "stdout",
     "output_type": "stream",
     "text": [
      "+------------------+-----------------------------------------------------------------------------------------------------------------------+\n",
      "| title            | description                                                                                                           |\n",
      "+------------------+-----------------------------------------------------------------------------------------------------------------------+\n",
      "| ACADEMY DINOSAUR | A Epic Drama of a Feminist And a Mad Scientist who must Battle a Teacher in The Canadian Rockies                      |\n",
      "| ACE GOLDFINGER   | A Astounding Epistle of a Database Administrator And a Explorer who must Find a Car in Ancient China                  |\n",
      "| ADAPTATION HOLES | A Astounding Reflection of a Lumberjack And a Car who must Sink a Lumberjack in A Baloon Factory                      |\n",
      "| AFFAIR PREJUDICE | A Fanciful Documentary of a Frisbee And a Lumberjack who must Chase a Monkey in A Shark Tank                          |\n",
      "| AFRICAN EGG      | A Fast-Paced Documentary of a Pastry Chef And a Dentist who must Pursue a Forensic Psychologist in The Gulf of Mexico |\n",
      "+------------------+-----------------------------------------------------------------------------------------------------------------------+\n"
     ]
    }
   ],
   "source": [
    "!mysql sakila -e \"select title, description from film limit 5\""
   ]
  },
  {
   "cell_type": "code",
   "execution_count": 43,
   "id": "5913859f-256c-41ec-9d36-4f2657fc7734",
   "metadata": {
    "tags": []
   },
   "outputs": [
    {
     "name": "stdout",
     "output_type": "stream",
     "text": [
      "+------------+-----------+\n",
      "| first_name | last_name |\n",
      "+------------+-----------+\n",
      "| MARY       | SMITH     |\n",
      "| PATRICIA   | JOHNSON   |\n",
      "| LINDA      | WILLIAMS  |\n",
      "| BARBARA    | JONES     |\n",
      "| ELIZABETH  | BROWN     |\n",
      "+------------+-----------+\n"
     ]
    }
   ],
   "source": [
    "!mysql sakila -e \"select first_name, last_name from customer limit 5\""
   ]
  },
  {
   "cell_type": "markdown",
   "id": "72eb0173-0a23-4928-a866-889429bb8702",
   "metadata": {},
   "source": [
    "### Write a query (on any one table) that uses both a WHERE clause and an ORDER BY clause. Add a short comment above your SQL statement to describe the query."
   ]
  },
  {
   "cell_type": "code",
   "execution_count": 44,
   "id": "065f1291-7577-4b85-bd0c-12dd3a0a64f4",
   "metadata": {
    "tags": []
   },
   "outputs": [
    {
     "name": "stdout",
     "output_type": "stream",
     "text": [
      "+------------------------+--------------------------------------------------------------------------------------------------------------------+--------+\n",
      "| title                  | description                                                                                                        | rating |\n",
      "+------------------------+--------------------------------------------------------------------------------------------------------------------+--------+\n",
      "| YOUNG LANGUAGE         | A Unbelieveable Yarn of a Boat And a Database Administrator who must Meet a Boy in The First Manned Space Station  | G      |\n",
      "| WEST LION              | A Intrepid Drama of a Butler And a Lumberjack who must Challenge a Database Administrator in A Manhattan Penthouse | G      |\n",
      "| WEREWOLF LOLA          | A Fanciful Story of a Man And a Sumo Wrestler who must Outrace a Student in A Monastery                            | G      |\n",
      "| WATERSHIP FRONTIER     | A Emotional Yarn of a Boat And a Crocodile who must Meet a Moose in Soviet Georgia                                 | G      |\n",
      "| WATERFRONT DELIVERANCE | A Unbelieveable Documentary of a Dentist And a Technical Writer who must Build a Womanizer in Nigeria              | G      |\n",
      "| WARS PLUTO             | A Taut Reflection of a Teacher And a Database Administrator who must Chase a Madman in The Sahara Desert           | G      |\n",
      "| WARLOCK WEREWOLF       | A Astounding Yarn of a Pioneer And a Crocodile who must Defeat a A Shark in The Outback                            | G      |\n",
      "| WARDROBE PHANTOM       | A Action-Packed Display of a Mad Cow And a Astronaut who must Kill a Car in Ancient India                          | G      |\n",
      "| WAR NOTTING            | A Boring Drama of a Teacher And a Sumo Wrestler who must Challenge a Secret Agent in The Canadian Rockies          | G      |\n",
      "| WAKE JAWS              | A Beautiful Saga of a Feminist And a Composer who must Challenge a Moose in Berlin                                 | G      |\n",
      "+------------------------+--------------------------------------------------------------------------------------------------------------------+--------+\n"
     ]
    }
   ],
   "source": [
    "# The film table is taken and the title, description, and rating columns were taking. The movies that are G rated are selected.\n",
    "# The rows are ordered by title in descending order. Only the top 10 rows were taken.\n",
    "!mysql sakila -e \"select title, description, rating from film where rating = 'G' order by title desc limit 10\""
   ]
  },
  {
   "cell_type": "markdown",
   "id": "2fd02d40-d48f-48cc-a387-de1abba91a56",
   "metadata": {
    "tags": []
   },
   "source": [
    "### Write an INSERT statement to add a row into any one of the tables (*: make sure it is not a View by looking at its CREATE statement in the file sakila-database.sql). Add a short comment above your SQL statement to describe the statement."
   ]
  },
  {
   "cell_type": "code",
   "execution_count": 45,
   "id": "87304806-da7b-4078-8866-eedd5d14301c",
   "metadata": {},
   "outputs": [],
   "source": [
    "# The actor table is added the name of John Doe to the setup with the first name and the last name, and the update is registered"
   ]
  },
  {
   "cell_type": "code",
   "execution_count": 46,
   "id": "8c56847b-c7b0-4b72-91fb-078dcc00ec96",
   "metadata": {
    "tags": []
   },
   "outputs": [],
   "source": [
    "!mysql sakila -e \"INSERT INTO actor (first_name, last_name) VALUES ('JOHN', 'DOE');\""
   ]
  },
  {
   "cell_type": "code",
   "execution_count": 47,
   "id": "23c197f7-b1b4-484c-9a77-c802a7478f0e",
   "metadata": {
    "tags": []
   },
   "outputs": [
    {
     "name": "stdout",
     "output_type": "stream",
     "text": [
      "+----------+-------------+--------------+---------------------+\n",
      "| actor_id | first_name  | last_name    | last_update         |\n",
      "+----------+-------------+--------------+---------------------+\n",
      "|        1 | PENELOPE    | GUINESS      | 2006-02-15 04:34:33 |\n",
      "|        2 | NICK        | WAHLBERG     | 2006-02-15 04:34:33 |\n",
      "|        3 | ED          | CHASE        | 2006-02-15 04:34:33 |\n",
      "|        4 | JENNIFER    | DAVIS        | 2006-02-15 04:34:33 |\n",
      "|        5 | JOHNNY      | LOLLOBRIGIDA | 2006-02-15 04:34:33 |\n",
      "|        6 | BETTE       | NICHOLSON    | 2006-02-15 04:34:33 |\n",
      "|        7 | GRACE       | MOSTEL       | 2006-02-15 04:34:33 |\n",
      "|        8 | MATTHEW     | JOHANSSON    | 2006-02-15 04:34:33 |\n",
      "|        9 | JOE         | SWANK        | 2006-02-15 04:34:33 |\n",
      "|       10 | CHRISTIAN   | GABLE        | 2006-02-15 04:34:33 |\n",
      "|       11 | ZERO        | CAGE         | 2006-02-15 04:34:33 |\n",
      "|       12 | KARL        | BERRY        | 2006-02-15 04:34:33 |\n",
      "|       13 | UMA         | WOOD         | 2006-02-15 04:34:33 |\n",
      "|       14 | VIVIEN      | BERGEN       | 2006-02-15 04:34:33 |\n",
      "|       15 | CUBA        | OLIVIER      | 2006-02-15 04:34:33 |\n",
      "|       16 | FRED        | COSTNER      | 2006-02-15 04:34:33 |\n",
      "|       17 | HELEN       | VOIGHT       | 2006-02-15 04:34:33 |\n",
      "|       18 | DAN         | TORN         | 2006-02-15 04:34:33 |\n",
      "|       19 | BOB         | FAWCETT      | 2006-02-15 04:34:33 |\n",
      "|       20 | LUCILLE     | TRACY        | 2006-02-15 04:34:33 |\n",
      "|       21 | KIRSTEN     | PALTROW      | 2006-02-15 04:34:33 |\n",
      "|       22 | ELVIS       | MARX         | 2006-02-15 04:34:33 |\n",
      "|       23 | SANDRA      | KILMER       | 2006-02-15 04:34:33 |\n",
      "|       24 | CAMERON     | STREEP       | 2006-02-15 04:34:33 |\n",
      "|       25 | KEVIN       | BLOOM        | 2006-02-15 04:34:33 |\n",
      "|       26 | RIP         | CRAWFORD     | 2006-02-15 04:34:33 |\n",
      "|       27 | JULIA       | MCQUEEN      | 2006-02-15 04:34:33 |\n",
      "|       28 | WOODY       | HOFFMAN      | 2006-02-15 04:34:33 |\n",
      "|       29 | ALEC        | WAYNE        | 2006-02-15 04:34:33 |\n",
      "|       30 | SANDRA      | PECK         | 2006-02-15 04:34:33 |\n",
      "|       31 | SISSY       | SOBIESKI     | 2006-02-15 04:34:33 |\n",
      "|       32 | TIM         | HACKMAN      | 2006-02-15 04:34:33 |\n",
      "|       33 | MILLA       | PECK         | 2006-02-15 04:34:33 |\n",
      "|       34 | AUDREY      | OLIVIER      | 2006-02-15 04:34:33 |\n",
      "|       35 | JUDY        | DEAN         | 2006-02-15 04:34:33 |\n",
      "|       36 | BURT        | DUKAKIS      | 2006-02-15 04:34:33 |\n",
      "|       37 | VAL         | BOLGER       | 2006-02-15 04:34:33 |\n",
      "|       38 | TOM         | MCKELLEN     | 2006-02-15 04:34:33 |\n",
      "|       39 | GOLDIE      | BRODY        | 2006-02-15 04:34:33 |\n",
      "|       40 | JOHNNY      | CAGE         | 2006-02-15 04:34:33 |\n",
      "|       41 | JODIE       | DEGENERES    | 2006-02-15 04:34:33 |\n",
      "|       42 | TOM         | MIRANDA      | 2006-02-15 04:34:33 |\n",
      "|       43 | KIRK        | JOVOVICH     | 2006-02-15 04:34:33 |\n",
      "|       44 | NICK        | STALLONE     | 2006-02-15 04:34:33 |\n",
      "|       45 | REESE       | KILMER       | 2006-02-15 04:34:33 |\n",
      "|       46 | PARKER      | GOLDBERG     | 2006-02-15 04:34:33 |\n",
      "|       47 | JULIA       | BARRYMORE    | 2006-02-15 04:34:33 |\n",
      "|       48 | FRANCES     | DAY-LEWIS    | 2006-02-15 04:34:33 |\n",
      "|       49 | ANNE        | CRONYN       | 2006-02-15 04:34:33 |\n",
      "|       50 | NATALIE     | HOPKINS      | 2006-02-15 04:34:33 |\n",
      "|       51 | GARY        | PHOENIX      | 2006-02-15 04:34:33 |\n",
      "|       52 | CARMEN      | HUNT         | 2006-02-15 04:34:33 |\n",
      "|       53 | MENA        | TEMPLE       | 2006-02-15 04:34:33 |\n",
      "|       54 | PENELOPE    | PINKETT      | 2006-02-15 04:34:33 |\n",
      "|       55 | FAY         | KILMER       | 2006-02-15 04:34:33 |\n",
      "|       56 | DAN         | HARRIS       | 2006-02-15 04:34:33 |\n",
      "|       57 | JUDE        | CRUISE       | 2006-02-15 04:34:33 |\n",
      "|       58 | CHRISTIAN   | AKROYD       | 2006-02-15 04:34:33 |\n",
      "|       59 | DUSTIN      | TAUTOU       | 2006-02-15 04:34:33 |\n",
      "|       60 | HENRY       | BERRY        | 2006-02-15 04:34:33 |\n",
      "|       61 | CHRISTIAN   | NEESON       | 2006-02-15 04:34:33 |\n",
      "|       62 | JAYNE       | NEESON       | 2006-02-15 04:34:33 |\n",
      "|       63 | CAMERON     | WRAY         | 2006-02-15 04:34:33 |\n",
      "|       64 | RAY         | JOHANSSON    | 2006-02-15 04:34:33 |\n",
      "|       65 | ANGELA      | HUDSON       | 2006-02-15 04:34:33 |\n",
      "|       66 | MARY        | TANDY        | 2006-02-15 04:34:33 |\n",
      "|       67 | JESSICA     | BAILEY       | 2006-02-15 04:34:33 |\n",
      "|       68 | RIP         | WINSLET      | 2006-02-15 04:34:33 |\n",
      "|       69 | KENNETH     | PALTROW      | 2006-02-15 04:34:33 |\n",
      "|       70 | MICHELLE    | MCCONAUGHEY  | 2006-02-15 04:34:33 |\n",
      "|       71 | ADAM        | GRANT        | 2006-02-15 04:34:33 |\n",
      "|       72 | SEAN        | WILLIAMS     | 2006-02-15 04:34:33 |\n",
      "|       73 | GARY        | PENN         | 2006-02-15 04:34:33 |\n",
      "|       74 | MILLA       | KEITEL       | 2006-02-15 04:34:33 |\n",
      "|       75 | BURT        | POSEY        | 2006-02-15 04:34:33 |\n",
      "|       76 | ANGELINA    | ASTAIRE      | 2006-02-15 04:34:33 |\n",
      "|       77 | CARY        | MCCONAUGHEY  | 2006-02-15 04:34:33 |\n",
      "|       78 | GROUCHO     | SINATRA      | 2006-02-15 04:34:33 |\n",
      "|       79 | MAE         | HOFFMAN      | 2006-02-15 04:34:33 |\n",
      "|       80 | RALPH       | CRUZ         | 2006-02-15 04:34:33 |\n",
      "|       81 | SCARLETT    | DAMON        | 2006-02-15 04:34:33 |\n",
      "|       82 | WOODY       | JOLIE        | 2006-02-15 04:34:33 |\n",
      "|       83 | BEN         | WILLIS       | 2006-02-15 04:34:33 |\n",
      "|       84 | JAMES       | PITT         | 2006-02-15 04:34:33 |\n",
      "|       85 | MINNIE      | ZELLWEGER    | 2006-02-15 04:34:33 |\n",
      "|       86 | GREG        | CHAPLIN      | 2006-02-15 04:34:33 |\n",
      "|       87 | SPENCER     | PECK         | 2006-02-15 04:34:33 |\n",
      "|       88 | KENNETH     | PESCI        | 2006-02-15 04:34:33 |\n",
      "|       89 | CHARLIZE    | DENCH        | 2006-02-15 04:34:33 |\n",
      "|       90 | SEAN        | GUINESS      | 2006-02-15 04:34:33 |\n",
      "|       91 | CHRISTOPHER | BERRY        | 2006-02-15 04:34:33 |\n",
      "|       92 | KIRSTEN     | AKROYD       | 2006-02-15 04:34:33 |\n",
      "|       93 | ELLEN       | PRESLEY      | 2006-02-15 04:34:33 |\n",
      "|       94 | KENNETH     | TORN         | 2006-02-15 04:34:33 |\n",
      "|       95 | DARYL       | WAHLBERG     | 2006-02-15 04:34:33 |\n",
      "|       96 | GENE        | WILLIS       | 2006-02-15 04:34:33 |\n",
      "|       97 | MEG         | HAWKE        | 2006-02-15 04:34:33 |\n",
      "|       98 | CHRIS       | BRIDGES      | 2006-02-15 04:34:33 |\n",
      "|       99 | JIM         | MOSTEL       | 2006-02-15 04:34:33 |\n",
      "|      100 | SPENCER     | DEPP         | 2006-02-15 04:34:33 |\n",
      "|      101 | SUSAN       | DAVIS        | 2006-02-15 04:34:33 |\n",
      "|      102 | WALTER      | TORN         | 2006-02-15 04:34:33 |\n",
      "|      103 | MATTHEW     | LEIGH        | 2006-02-15 04:34:33 |\n",
      "|      104 | PENELOPE    | CRONYN       | 2006-02-15 04:34:33 |\n",
      "|      105 | SIDNEY      | CROWE        | 2006-02-15 04:34:33 |\n",
      "|      106 | GROUCHO     | DUNST        | 2006-02-15 04:34:33 |\n",
      "|      107 | GINA        | DEGENERES    | 2006-02-15 04:34:33 |\n",
      "|      108 | WARREN      | NOLTE        | 2006-02-15 04:34:33 |\n",
      "|      109 | SYLVESTER   | DERN         | 2006-02-15 04:34:33 |\n",
      "|      110 | SUSAN       | DAVIS        | 2006-02-15 04:34:33 |\n",
      "|      111 | CAMERON     | ZELLWEGER    | 2006-02-15 04:34:33 |\n",
      "|      112 | RUSSELL     | BACALL       | 2006-02-15 04:34:33 |\n",
      "|      113 | MORGAN      | HOPKINS      | 2006-02-15 04:34:33 |\n",
      "|      114 | MORGAN      | MCDORMAND    | 2006-02-15 04:34:33 |\n",
      "|      115 | HARRISON    | BALE         | 2006-02-15 04:34:33 |\n",
      "|      116 | DAN         | STREEP       | 2006-02-15 04:34:33 |\n",
      "|      117 | RENEE       | TRACY        | 2006-02-15 04:34:33 |\n",
      "|      118 | CUBA        | ALLEN        | 2006-02-15 04:34:33 |\n",
      "|      119 | WARREN      | JACKMAN      | 2006-02-15 04:34:33 |\n",
      "|      120 | PENELOPE    | MONROE       | 2006-02-15 04:34:33 |\n",
      "|      121 | LIZA        | BERGMAN      | 2006-02-15 04:34:33 |\n",
      "|      122 | SALMA       | NOLTE        | 2006-02-15 04:34:33 |\n",
      "|      123 | JULIANNE    | DENCH        | 2006-02-15 04:34:33 |\n",
      "|      124 | SCARLETT    | BENING       | 2006-02-15 04:34:33 |\n",
      "|      125 | ALBERT      | NOLTE        | 2006-02-15 04:34:33 |\n",
      "|      126 | FRANCES     | TOMEI        | 2006-02-15 04:34:33 |\n",
      "|      127 | KEVIN       | GARLAND      | 2006-02-15 04:34:33 |\n",
      "|      128 | CATE        | MCQUEEN      | 2006-02-15 04:34:33 |\n",
      "|      129 | DARYL       | CRAWFORD     | 2006-02-15 04:34:33 |\n",
      "|      130 | GRETA       | KEITEL       | 2006-02-15 04:34:33 |\n",
      "|      131 | JANE        | JACKMAN      | 2006-02-15 04:34:33 |\n",
      "|      132 | ADAM        | HOPPER       | 2006-02-15 04:34:33 |\n",
      "|      133 | RICHARD     | PENN         | 2006-02-15 04:34:33 |\n",
      "|      134 | GENE        | HOPKINS      | 2006-02-15 04:34:33 |\n",
      "|      135 | RITA        | REYNOLDS     | 2006-02-15 04:34:33 |\n",
      "|      136 | ED          | MANSFIELD    | 2006-02-15 04:34:33 |\n",
      "|      137 | MORGAN      | WILLIAMS     | 2006-02-15 04:34:33 |\n",
      "|      138 | LUCILLE     | DEE          | 2006-02-15 04:34:33 |\n",
      "|      139 | EWAN        | GOODING      | 2006-02-15 04:34:33 |\n",
      "|      140 | WHOOPI      | HURT         | 2006-02-15 04:34:33 |\n",
      "|      141 | CATE        | HARRIS       | 2006-02-15 04:34:33 |\n",
      "|      142 | JADA        | RYDER        | 2006-02-15 04:34:33 |\n",
      "|      143 | RIVER       | DEAN         | 2006-02-15 04:34:33 |\n",
      "|      144 | ANGELA      | WITHERSPOON  | 2006-02-15 04:34:33 |\n",
      "|      145 | KIM         | ALLEN        | 2006-02-15 04:34:33 |\n",
      "|      146 | ALBERT      | JOHANSSON    | 2006-02-15 04:34:33 |\n",
      "|      147 | FAY         | WINSLET      | 2006-02-15 04:34:33 |\n",
      "|      148 | EMILY       | DEE          | 2006-02-15 04:34:33 |\n",
      "|      149 | RUSSELL     | TEMPLE       | 2006-02-15 04:34:33 |\n",
      "|      150 | JAYNE       | NOLTE        | 2006-02-15 04:34:33 |\n",
      "|      151 | GEOFFREY    | HESTON       | 2006-02-15 04:34:33 |\n",
      "|      152 | BEN         | HARRIS       | 2006-02-15 04:34:33 |\n",
      "|      153 | MINNIE      | KILMER       | 2006-02-15 04:34:33 |\n",
      "|      154 | MERYL       | GIBSON       | 2006-02-15 04:34:33 |\n",
      "|      155 | IAN         | TANDY        | 2006-02-15 04:34:33 |\n",
      "|      156 | FAY         | WOOD         | 2006-02-15 04:34:33 |\n",
      "|      157 | GRETA       | MALDEN       | 2006-02-15 04:34:33 |\n",
      "|      158 | VIVIEN      | BASINGER     | 2006-02-15 04:34:33 |\n",
      "|      159 | LAURA       | BRODY        | 2006-02-15 04:34:33 |\n",
      "|      160 | CHRIS       | DEPP         | 2006-02-15 04:34:33 |\n",
      "|      161 | HARVEY      | HOPE         | 2006-02-15 04:34:33 |\n",
      "|      162 | OPRAH       | KILMER       | 2006-02-15 04:34:33 |\n",
      "|      163 | CHRISTOPHER | WEST         | 2006-02-15 04:34:33 |\n",
      "|      164 | HUMPHREY    | WILLIS       | 2006-02-15 04:34:33 |\n",
      "|      165 | AL          | GARLAND      | 2006-02-15 04:34:33 |\n",
      "|      166 | NICK        | DEGENERES    | 2006-02-15 04:34:33 |\n",
      "|      167 | LAURENCE    | BULLOCK      | 2006-02-15 04:34:33 |\n",
      "|      168 | WILL        | WILSON       | 2006-02-15 04:34:33 |\n",
      "|      169 | KENNETH     | HOFFMAN      | 2006-02-15 04:34:33 |\n",
      "|      170 | MENA        | HOPPER       | 2006-02-15 04:34:33 |\n",
      "|      171 | OLYMPIA     | PFEIFFER     | 2006-02-15 04:34:33 |\n",
      "|      172 | GROUCHO     | WILLIAMS     | 2006-02-15 04:34:33 |\n",
      "|      173 | ALAN        | DREYFUSS     | 2006-02-15 04:34:33 |\n",
      "|      174 | MICHAEL     | BENING       | 2006-02-15 04:34:33 |\n",
      "|      175 | WILLIAM     | HACKMAN      | 2006-02-15 04:34:33 |\n",
      "|      176 | JON         | CHASE        | 2006-02-15 04:34:33 |\n",
      "|      177 | GENE        | MCKELLEN     | 2006-02-15 04:34:33 |\n",
      "|      178 | LISA        | MONROE       | 2006-02-15 04:34:33 |\n",
      "|      179 | ED          | GUINESS      | 2006-02-15 04:34:33 |\n",
      "|      180 | JEFF        | SILVERSTONE  | 2006-02-15 04:34:33 |\n",
      "|      181 | MATTHEW     | CARREY       | 2006-02-15 04:34:33 |\n",
      "|      182 | DEBBIE      | AKROYD       | 2006-02-15 04:34:33 |\n",
      "|      183 | RUSSELL     | CLOSE        | 2006-02-15 04:34:33 |\n",
      "|      184 | HUMPHREY    | GARLAND      | 2006-02-15 04:34:33 |\n",
      "|      185 | MICHAEL     | BOLGER       | 2006-02-15 04:34:33 |\n",
      "|      186 | JULIA       | ZELLWEGER    | 2006-02-15 04:34:33 |\n",
      "|      187 | RENEE       | BALL         | 2006-02-15 04:34:33 |\n",
      "|      188 | ROCK        | DUKAKIS      | 2006-02-15 04:34:33 |\n",
      "|      189 | CUBA        | BIRCH        | 2006-02-15 04:34:33 |\n",
      "|      190 | AUDREY      | BAILEY       | 2006-02-15 04:34:33 |\n",
      "|      191 | GREGORY     | GOODING      | 2006-02-15 04:34:33 |\n",
      "|      192 | JOHN        | SUVARI       | 2006-02-15 04:34:33 |\n",
      "|      193 | BURT        | TEMPLE       | 2006-02-15 04:34:33 |\n",
      "|      194 | MERYL       | ALLEN        | 2006-02-15 04:34:33 |\n",
      "|      195 | JAYNE       | SILVERSTONE  | 2006-02-15 04:34:33 |\n",
      "|      196 | BELA        | WALKEN       | 2006-02-15 04:34:33 |\n",
      "|      197 | REESE       | WEST         | 2006-02-15 04:34:33 |\n",
      "|      198 | MARY        | KEITEL       | 2006-02-15 04:34:33 |\n",
      "|      199 | JULIA       | FAWCETT      | 2006-02-15 04:34:33 |\n",
      "|      200 | THORA       | TEMPLE       | 2006-02-15 04:34:33 |\n",
      "|      201 | JOHN        | DOE          | 2024-02-14 04:55:18 |\n",
      "+----------+-------------+--------------+---------------------+\n"
     ]
    }
   ],
   "source": [
    "!mysql sakila -e \"select * from actor\""
   ]
  },
  {
   "cell_type": "markdown",
   "id": "e4c2be82-de36-456d-8401-c1daa7093987",
   "metadata": {},
   "source": [
    "### Write an UPDATE statement to update one or more rows from any one of the tables (*). Add a short comment above your SQL statement to describe the statement"
   ]
  },
  {
   "cell_type": "code",
   "execution_count": 48,
   "id": "f7655e57-c2d2-42ac-872e-c1e04dfa89f4",
   "metadata": {},
   "outputs": [
    {
     "name": "stdout",
     "output_type": "stream",
     "text": [
      "+-----------------+\n",
      "| rental_duration |\n",
      "+-----------------+\n",
      "|               6 |\n",
      "|               3 |\n",
      "|               7 |\n",
      "|               5 |\n",
      "|               6 |\n",
      "+-----------------+\n"
     ]
    }
   ],
   "source": [
    "!mysql sakila -e \"select rental_duration from film limit 5\""
   ]
  },
  {
   "cell_type": "code",
   "execution_count": 49,
   "id": "4a3b901e-6f64-4525-940e-db95b5775f03",
   "metadata": {
    "tags": []
   },
   "outputs": [
    {
     "name": "stdout",
     "output_type": "stream",
     "text": [
      "+-----------------+\n",
      "| rental_duration |\n",
      "+-----------------+\n",
      "|               7 |\n",
      "|               3 |\n",
      "|               7 |\n",
      "|               5 |\n",
      "|               6 |\n",
      "+-----------------+\n"
     ]
    }
   ],
   "source": [
    "#updates the time required where film id is 1 to time + 1 from the film set database\n",
    "!mysql sakila -e \"UPDATE film SET rental_duration = rental_duration + 1 WHERE film_id = 1;\"\n",
    "!mysql sakila -e \"select rental_duration from film limit 5\""
   ]
  },
  {
   "cell_type": "markdown",
   "id": "c1ccc57a-7713-4214-baf0-0884dc4bb95f",
   "metadata": {},
   "source": [
    "### Write a DELETE statement to delete one or more rows from any one of the tables (*). Add a short comment above your SQL statement to describe the statement"
   ]
  },
  {
   "cell_type": "code",
   "execution_count": 50,
   "id": "e8ea9f5f-b94d-4c63-b4c5-6798ccc4dc45",
   "metadata": {
    "tags": []
   },
   "outputs": [
    {
     "name": "stdout",
     "output_type": "stream",
     "text": [
      "+----------+---------+---------------------+\n",
      "| actor_id | film_id | last_update         |\n",
      "+----------+---------+---------------------+\n",
      "|        1 |       1 | 2006-02-15 05:05:03 |\n",
      "|        1 |      23 | 2006-02-15 05:05:03 |\n",
      "|        1 |      25 | 2006-02-15 05:05:03 |\n",
      "|        1 |     106 | 2006-02-15 05:05:03 |\n",
      "|        1 |     140 | 2006-02-15 05:05:03 |\n",
      "+----------+---------+---------------------+\n"
     ]
    }
   ],
   "source": [
    "!mysql sakila -e \"select * from film_actor limit 5\""
   ]
  },
  {
   "cell_type": "code",
   "execution_count": 51,
   "id": "c24300f0-49e4-4fe8-9c9f-20ea6492afe7",
   "metadata": {},
   "outputs": [
    {
     "name": "stdout",
     "output_type": "stream",
     "text": [
      "+----------+---------+---------------------+\n",
      "| actor_id | film_id | last_update         |\n",
      "+----------+---------+---------------------+\n",
      "|        1 |       1 | 2006-02-15 05:05:03 |\n",
      "|        1 |      25 | 2006-02-15 05:05:03 |\n",
      "|        1 |     106 | 2006-02-15 05:05:03 |\n",
      "|        1 |     140 | 2006-02-15 05:05:03 |\n",
      "|        1 |     166 | 2006-02-15 05:05:03 |\n",
      "+----------+---------+---------------------+\n"
     ]
    }
   ],
   "source": [
    "# Deletes the film_id 23 from the film_actor dataset\n",
    "!mysql sakila -e \"delete from film_actor where film_id = 23\"\n",
    "!mysql sakila -e \"select * from film_actor limit 5\""
   ]
  }
 ],
 "metadata": {
  "environment": {
   "kernel": "conda-root-py",
   "name": "workbench-notebooks.m115",
   "type": "gcloud",
   "uri": "gcr.io/deeplearning-platform-release/workbench-notebooks:m115"
  },
  "kernelspec": {
   "display_name": "Python 3 (ipykernel) (Local)",
   "language": "python",
   "name": "conda-root-py"
  },
  "language_info": {
   "codemirror_mode": {
    "name": "ipython",
    "version": 3
   },
   "file_extension": ".py",
   "mimetype": "text/x-python",
   "name": "python",
   "nbconvert_exporter": "python",
   "pygments_lexer": "ipython3",
   "version": "3.10.13"
  }
 },
 "nbformat": 4,
 "nbformat_minor": 5
}
